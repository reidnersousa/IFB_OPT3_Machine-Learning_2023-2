{
  "nbformat": 4,
  "nbformat_minor": 0,
  "metadata": {
    "colab": {
      "provenance": [],
      "authorship_tag": "ABX9TyM8lWTIVpgE63/M7nTvNzqa",
      "include_colab_link": true
    },
    "kernelspec": {
      "name": "python3",
      "display_name": "Python 3"
    },
    "language_info": {
      "name": "python"
    }
  },
  "cells": [
    {
      "cell_type": "markdown",
      "metadata": {
        "id": "view-in-github",
        "colab_type": "text"
      },
      "source": [
        "<a href=\"https://colab.research.google.com/github/reidnersousa/IFB_OPT3_Machine-Learning_2023-2/blob/main/trabalho1ReidnerSousa.ipynb\" target=\"_parent\"><img src=\"https://colab.research.google.com/assets/colab-badge.svg\" alt=\"Open In Colab\"/></a>"
      ]
    },
    {
      "cell_type": "markdown",
      "source": [
        "Class Usuario\n"
      ],
      "metadata": {
        "id": "ErYB_aYQWHgx"
      }
    },
    {
      "cell_type": "code",
      "source": [
        "class Usuario:\n",
        "  def __init__(self ,twitter,facebook,instagram):\n",
        "    self.twitter = twitter\n",
        "    self.facebook = facebook\n",
        "    self.instagram = instagram\n",
        "\n",
        "  def __str__(self) :\n",
        "    return '{0} {1} {2}'.format(self.twitter,self.facebook,self.instagram)\n",
        "\n"
      ],
      "metadata": {
        "id": "ErOfCKQcFM70"
      },
      "execution_count": null,
      "outputs": []
    },
    {
      "cell_type": "markdown",
      "source": [
        "(Valor: 1,0) 1 - Deverá ser criada uma classe chamada Contato, com os\n",
        "atributos descritos anteriormente (e-mail, twiter, ...)."
      ],
      "metadata": {
        "id": "h_Q8-eeeWK0o"
      }
    },
    {
      "cell_type": "code",
      "source": [
        "class Contato:\n",
        "  def __init__(self , nome , email  , telefone , usuario):\n",
        "    self.nome = nome\n",
        "    self.email = email\n",
        "    self.telefone = telefone\n",
        "    self.usuario = usuario\n",
        "\n",
        "\n",
        "\n",
        "\n",
        "\n",
        "\n",
        "  def exibirListaContatos(self):\n",
        "    pass\n",
        "\n",
        "  def salvarDadosArquivo(self):\n",
        "    pass\n",
        "\n",
        "\n",
        "  def __str__(self):\n",
        "    return '{0} {1} {2} {3}'.format(self.nome,self.email,self.telefone,self.usuario)\n",
        "\n",
        "    #return 'nome : {0}  email : {1} telefone : {2}  usuario : {3}'.format(self.nome,self.email,self.telefone,self.usuario)\n"
      ],
      "metadata": {
        "id": "Jsnxp2LIM8Su"
      },
      "execution_count": null,
      "outputs": []
    },
    {
      "cell_type": "markdown",
      "source": [
        "Função de lista"
      ],
      "metadata": {
        "id": "n9YQakXLWNS4"
      }
    },
    {
      "cell_type": "code",
      "source": [
        "def criarContato():\n",
        "  nome = input(\"Digite o nome do contanto : \\n\")\n",
        "  email = input(\"Digite o email do contanto : \\n\")\n",
        "  telefone = input(\"Digite o telefone do contanto : \\n\")\n",
        "\n",
        "  twitter = input(\"Digite o twitter : \\n \")\n",
        "  facebook =input(\"Digte o facebook : \\n \")\n",
        "  instagram = input(\"Digite o instagram : \\n\")\n",
        "\n",
        "  usuario = Usuario(twitter , facebook , instagram)\n",
        "  contanto = Contato( nome,email,telefone,usuario)\n",
        "  return contanto\n",
        "\n",
        "def buscar_contato_nome(lista ):\n",
        "  nome = input(\"Nome do Contanto : \\n \")\n",
        "  lista_contatosNome =[]\n",
        "  for i in lista:\n",
        "    if i.nome == nome:\n",
        "      lista_contatosNome.append(i)\n",
        "\n",
        "  if lista_contatosNome :\n",
        "    for contatos in lista_contatosNome:\n",
        "      print(contatos)\n",
        "  else:\n",
        "    print(\"Contato não esta na lista\")\n",
        "\n",
        "def atualizar_contato(lista ):\n",
        "  nome = input(\"Nome do Contanto : \\n \")\n",
        "  lista_contatosNome = []\n",
        "  for contato in lista:\n",
        "    if contato.nome == nome:\n",
        "      while True:\n",
        "        print()\n",
        "        print(\"Opções de atualização:\")\n",
        "        print(\"1. Atualizar nome\")\n",
        "        print(\"2. Atualizar email\")\n",
        "        print(\"3. Atualizar telefone\")\n",
        "        print(\"4. Atualizar informações de usuário (Twitter, Facebook, Instagram)\")\n",
        "        print(\"5. Voltar ao menu principal\")\n",
        "\n",
        "        escolha = input(\"Escolha uma opção: \")\n",
        "\n",
        "        if escolha == '1':\n",
        "          novoNome = input(\"Digite o novo nome : \\n \")\n",
        "          contato.nome = novoNome\n",
        "        elif escolha == '2':\n",
        "          novoEmail = input(\"Digite o novo email : \\n\")\n",
        "          contato.email = novoEmail\n",
        "        elif escolha == '3':\n",
        "          novoTelefone = input(\"Digite o novo Telefone : \\n\")\n",
        "          contato.telefone = novoTelefone\n",
        "\n",
        "        elif escolha == '4':\n",
        "          while True:\n",
        "            print()\n",
        "            print(\"Opções de atualização:\")\n",
        "            print(\"1. Atualizar nome no Twitter\")\n",
        "            print(\"2. Atualizar nome do Facebook\")\n",
        "            print(\"3. Atualizar nome do Instagram\")\n",
        "            print(\"5. Voltar ao opções de Atualização\")\n",
        "\n",
        "            usuarioEscolha = input(\"Escolha uma opção:  \\n\")\n",
        "\n",
        "            if usuarioEscolha == '1':\n",
        "              novoTwitter = input(\"Digite um novo Twitter : \\n\")\n",
        "              contato.usuario.twitter = novoTwitter\n",
        "\n",
        "            elif usuarioEscolha == '2':\n",
        "              novoFacebook = input(\"Digite um novo Facebook : \\n\")\n",
        "              contato.usuario.facebook = novoFacebook\n",
        "\n",
        "            elif usuarioEscolha == '3':\n",
        "              novoInstagram = input(\"Digite um novo Instagram : \\n\")\n",
        "              contato.usuario.instagram = novoInstagram\n",
        "\n",
        "            elif usuarioEscolha == '5':\n",
        "              break\n",
        "\n",
        "        elif escolha == '5':\n",
        "          break\n",
        "\n",
        "\n",
        "    else:\n",
        "      print(\"não foi\")\n",
        "\n",
        "\n",
        "def deleta_contato(listaContatos):\n",
        "  contanto_deletado = input(\"Digite o nome do contato quer deleta\")\n",
        "  for contatos in listaContatos:\n",
        "    if contatos.nome == contanto_deletado:\n",
        "      listaContatos.remove(contatos)\n",
        "      print(\"Faço algo\")\n",
        "\n",
        "\n",
        "def menu(listaContatos):\n",
        "  while True:\n",
        "\n",
        "    print(\"Digite 1 para Inserir um novo Contato\")\n",
        "    print(\"Digite 2 para buscar  um  Contato pelo nome\")\n",
        "    print(\"Digite 3 para atualizar um Contato existente\")\n",
        "    print(\"Digite 4 para remover um  Contato\")\n",
        "    print(\"Digite 5 para sair do programa\")\n",
        "    reposta = input()\n",
        "    if reposta == '1':\n",
        "      novoContato = criarContato()\n",
        "      listaContatos.append(novoContato)\n",
        "\n",
        "    elif reposta == '2':\n",
        "      buscar_contato_nome(listaContatos)\n",
        "\n",
        "    elif reposta == '3':\n",
        "      atualizar_contato(listaContatos)\n",
        "\n",
        "    elif reposta == '4':\n",
        "      deleta_contato(listaContatos)\n",
        "    elif reposta == '5':\n",
        "        return listaContatos\n",
        "\n",
        "\n",
        "def imprimir_listaContatos(listaContatos):\n",
        "  print(\"Nome      Email        Telefone      Twitter     Facebook     Instagram \")\n",
        "  for contato in listaContatos:\n",
        "\n",
        "    #print(contato.nome)\n",
        "    print(contato)"
      ],
      "metadata": {
        "id": "NLECYMreTLe8"
      },
      "execution_count": null,
      "outputs": []
    },
    {
      "cell_type": "markdown",
      "source": [
        "Dicionario"
      ],
      "metadata": {
        "id": "GPiDuoQblaln"
      }
    },
    {
      "cell_type": "code",
      "execution_count": null,
      "metadata": {
        "id": "kzlm3O4flu9V"
      },
      "outputs": [],
      "source": [
        "import copy\n",
        "\n",
        "\n",
        "\n",
        "def ler_dados_gravar_dicionario(listaContatos):\n",
        "\n",
        "  dicionario ={}\n",
        "  for contato in listaContatos:\n",
        "    tuplaDadosContatos =(contato.email,contato.telefone,contato.usuario.facebook,contato.usuario.twitter,contato.usuario.instagram)\n",
        "    dicionario[contato.nome]=tuplaDadosContatos\n",
        "\n",
        "  return dicionario\n",
        "\n",
        "## apenas lista de objetos\n",
        "def consulta_lista_via_nome(listaContatos):\n",
        "  nome = input(\"Digite o nome que queria buscar na lista\")\n",
        "  for contatos in listaContatos:\n",
        "    if nome == contatos.nome:\n",
        "      print(contatos)\n",
        "\n",
        "\n",
        "def consulta_dicionario_via_nome(dicionarioContatos):\n",
        "  nome = input(\"Digite o nome que queria buscar no dicionario\")\n",
        "  if nome  in dicionarioContatos:\n",
        "    print(\"nome\",nome ,\": \",dicionarioContatos[nome])\n",
        "  else:\n",
        "    print(\"nome não esta no dicionario\")\n",
        "\n",
        "\n",
        "def altera_dicionario_via_nome(dicionarioContatos):\n",
        "  entraNoWhile = True\n",
        "  nome = input(\"Digite o nome que queria alterar do dicionario\")\n",
        "\n",
        "  if nome not in dicionarioContatos:\n",
        "    print(\"nome não esta no dicionario \")\n",
        "    entraNoWhile = False\n",
        "\n",
        "  else :\n",
        "    listaContatosNovos = list(dicionarioContatos[nome])\n",
        "\n",
        "  while entraNoWhile:\n",
        "      print(\"Opções de alteração:\")\n",
        "      print(\"0. Alterar email\")\n",
        "      print(\"1. Alterar telefone\")\n",
        "      print(\"2. Alterar Facebook\")\n",
        "      print(\"3. Alterar Twitter\")\n",
        "      print(\"4. Alterar Instagram\")\n",
        "      print(\"5. Sair\")\n",
        "\n",
        "      opcao = input(\"Escolha uma opção: \")\n",
        "      if opcao == '0':\n",
        "        novoEmail = input(\"Digite o novo email\")\n",
        "        listaContatosNovos[0]= novoEmail\n",
        "\n",
        "      elif opcao == '1':\n",
        "        novoTelefone = input(\"Digite o novo telefone\")\n",
        "        listaContatosNovos[1] = novoTelefone\n",
        "\n",
        "      elif opcao == '2':\n",
        "        novoFacebook = input(\"Digite o novo Facebook\")\n",
        "        listaContatosNovos[2] = novoFacebook\n",
        "\n",
        "      elif opcao == '3':\n",
        "        novoTwitter = input(\"Digite o novo Twitter\")\n",
        "        listaContatosNovos[3] = novoTwitter\n",
        "\n",
        "      elif opcao == '4':\n",
        "        novoInstagram = input(\"Digite o novo Instagram\")\n",
        "        listaContatosNovos[4] = novoInstagram\n",
        "      elif opcao == '5':\n",
        "        itemNovos = tuple(listaContatosNovos)\n",
        "        dicionarioContatos[nome] = itemNovos\n",
        "        break\n",
        "\n",
        "\n",
        "  return dicionarioContatos\n",
        "\n",
        "def excluir_dicionario_via_nome(dicionarioContatos):\n",
        "  nome = input(\"Digite qual contato quer deleta\")\n",
        "  if nome in dicionarioContatos:\n",
        "    del dicionarioContatos[nome]\n",
        "  else :\n",
        "    print(\"contato não esta no dicionario\")\n",
        "  return dicionarioContatos\n",
        "\n",
        "### arruma com chatgpt\n",
        "def imprimir_todos_contatos_dicionario(dicionarioContatos):\n",
        "\n",
        "  print(\"Nome \\t Email \\t Telefone \\t Facebook \\t Twitter \\t Instagram\")\n",
        "\n",
        "  for valor in dicionarioContatos.keys():\n",
        "\n",
        "    print(\"\\t\",valor,end=\" \")\n",
        "    print(dicionarioContatos[valor][0],end=\"\")\n",
        "    print(dicionarioContatos[valor][1],end=\" \")\n",
        "    print(dicionarioContatos[valor][2],end=\" \")\n",
        "    print(dicionarioContatos[valor][4],end=\" \")\n",
        "\n",
        "   # print(\n",
        "    #      dicionarioContatos[valor][0],dicionarioContatos[valor][1],dicionarioContatos[valor][2],\n",
        "     #     dicionarioContatos[valor][3],dicionarioContatos[valor][4])\n"
      ]
    },
    {
      "cell_type": "markdown",
      "source": [
        "lista"
      ],
      "metadata": {
        "id": "FcbAhb1lZaNk"
      }
    },
    {
      "cell_type": "code",
      "source": [
        "u= Usuario(\"monicaTwitter\",\"monicaFacebook\",\"monicaInstagram\")\n",
        "c = Contato(\"monica\",\"monica@gmail.com\",\"9299-10251\",u)\n",
        "\n",
        "u1= Usuario(\"reidnerTwitter\",\"reidnerFacebook\",\"reidnerInstagram\")\n",
        "c1= Contato(\"reidner\",\"reidner@gmail.com\",\"99218-5101\",u1)\n",
        "\n",
        "lista =[]\n",
        "lista.append(c)\n",
        "lista.append(c1)\n",
        "\n"
      ],
      "metadata": {
        "id": "JHMpHr8roJYl"
      },
      "execution_count": null,
      "outputs": []
    },
    {
      "cell_type": "markdown",
      "source": [
        "lista 2"
      ],
      "metadata": {
        "id": "NlBGKzXp1s2R"
      }
    },
    {
      "cell_type": "code",
      "source": [
        "u2= Usuario(\"cebolinhaTwitter\",\"cebolinhaFacebook\",\"cebolinhaInstagram\")\n",
        "c2 = Contato(\"cebolinha\",\"cebolinha@gmail.com\",\"90890-10555\",u2)\n",
        "\n",
        "u3= Usuario(\"reidnerTwitter\",\"reidnerFacebook\",\"reidnerInstagram\")\n",
        "c3= Contato(\"reidner\",\"reidner@gmail.com\",\"99218-5101\",u3)\n",
        "\n",
        "lista2 =[]\n",
        "lista2.append(c2)\n",
        "lista2.append(c3)\n",
        "listaContatos2 = menu(lista2)\n",
        "\n",
        "dicionarioContatos2  = ler_dados_gravar_dicionario(listaContatos2)\n",
        "\n",
        "print(\"Dicionario \\n\")\n",
        "imprimir_todos_contatos_dicionario(dicionarioContatos2)\n",
        "print(\"\\n\\nLista \\n\")\n",
        "imprimir_listaContatos(listaContatos2)"
      ],
      "metadata": {
        "colab": {
          "base_uri": "https://localhost:8080/"
        },
        "id": "yuEuZJe01q0v",
        "outputId": "80f94e8c-936b-4abf-f4cb-490d7b9ab81e"
      },
      "execution_count": null,
      "outputs": [
        {
          "output_type": "stream",
          "name": "stdout",
          "text": [
            "Digite 1 para Inserir um novo Contato\n",
            "Digite 2 para buscar  um  Contato pelo nome\n",
            "Digite 3 para atualizar um Contato existente\n",
            "Digite 4 para remover um  Contato\n",
            "Digite 5 para sair do programa\n",
            "5\n",
            "Dicionario \n",
            "\n",
            "Nome \t Email \t Telefone \t Facebook \t Twitter \t Instagram\n",
            "\t cebolinha cebolinha@gmail.com90890-10555 cebolinhaFacebook cebolinhaInstagram \t reidner reidner@gmail.com99218-5101 reidnerFacebook reidnerInstagram \n",
            "\n",
            "Lista \n",
            "\n",
            "Nome      Email        Telefone      Twitter     Facebook     Instagram \n",
            "cebolinha cebolinha@gmail.com 90890-10555 cebolinhaTwitter cebolinhaFacebook cebolinhaInstagram\n",
            "reidner reidner@gmail.com 99218-5101 reidnerTwitter reidnerFacebook reidnerInstagram\n"
          ]
        }
      ]
    },
    {
      "cell_type": "markdown",
      "source": [
        "(Valor: 1,0) 2 - Implemente uma função que será o menu do programa, onde\n",
        "o usuário poderá inserir um novo contato, fazer uma consulta de um nome já\n",
        "cadastrado, remover ou fazer alteração em um contato previamente\n",
        "cadastrado e sair do programa."
      ],
      "metadata": {
        "id": "gauK0_AFkkSJ"
      }
    },
    {
      "cell_type": "code",
      "source": [
        "listaContatos=menu(lista)"
      ],
      "metadata": {
        "colab": {
          "base_uri": "https://localhost:8080/"
        },
        "id": "SIAaykwPklz5",
        "outputId": "5d4f4a14-922b-45ba-87bb-b6b5f13c18e5"
      },
      "execution_count": null,
      "outputs": [
        {
          "name": "stdout",
          "output_type": "stream",
          "text": [
            "Digite 1 para Inserir um novo Contato\n",
            "Digite 2 para buscar  um  Contato pelo nome\n",
            "Digite 3 para atualizar um Contato existente\n",
            "Digite 4 para remover um  Contato\n",
            "Digite 5 para sair do programa\n",
            "5\n"
          ]
        }
      ]
    },
    {
      "cell_type": "markdown",
      "source": [
        "(Valor: 1,0) 3 - Implemente uma função para ler os dados, gravando-os em\n",
        "um dicionário."
      ],
      "metadata": {
        "id": "0XpAhFZGZcQk"
      }
    },
    {
      "cell_type": "code",
      "source": [
        "dicionarioContatos  = ler_dados_gravar_dicionario(listaContatos)  # 3\n",
        "\n"
      ],
      "metadata": {
        "id": "8U3_Dj3bZPd8"
      },
      "execution_count": null,
      "outputs": []
    },
    {
      "cell_type": "markdown",
      "source": [
        "(Valor: 1,0) 4 - Implemente uma função para consultar, a partir do nome, e\n",
        "deverá exibir o nome, os dados de e-mail, telefone e contas no Instagram,\n",
        "facebbok e Twitter, salvos no dicionário."
      ],
      "metadata": {
        "id": "rfJEkIF1ltkh"
      }
    },
    {
      "cell_type": "code",
      "source": [
        "consulta_dicionario_via_nome(dicionarioContatos)    # 4\n",
        "\n",
        "\n"
      ],
      "metadata": {
        "colab": {
          "base_uri": "https://localhost:8080/"
        },
        "id": "ggNJnSlTlqbY",
        "outputId": "163b89bc-3ff0-4e5e-b3d7-588edb550fd9"
      },
      "execution_count": null,
      "outputs": [
        {
          "output_type": "stream",
          "name": "stdout",
          "text": [
            "Digite o nome que queria buscar no dicionarioreidner\n",
            "nome reidner :  ('reidner@gmail.com', '99218-5101', 'reidnerFacebook', 'reidnerTwitter', 'reidnerInstagram')\n"
          ]
        }
      ]
    },
    {
      "cell_type": "markdown",
      "source": [
        "(Valor: 1,0) 5 - Implemente uma função para alterar os dados de um contato,\n",
        "consultado, no dicionário, pelo nome.\n"
      ],
      "metadata": {
        "id": "udSSPwAdk_bu"
      }
    },
    {
      "cell_type": "code",
      "source": [
        "dicionarioContatos = altera_dicionario_via_nome(dicionarioContatos) # 5"
      ],
      "metadata": {
        "colab": {
          "base_uri": "https://localhost:8080/"
        },
        "id": "mGoAUEhug6yw",
        "outputId": "c372e6cf-7b8f-44c5-ea0e-0e15bab5c81d"
      },
      "execution_count": null,
      "outputs": [
        {
          "output_type": "stream",
          "name": "stdout",
          "text": [
            "Digite o nome que queria alterar do dicionarios\n",
            "nome não esta no dicionario \n"
          ]
        }
      ]
    },
    {
      "cell_type": "markdown",
      "source": [
        "(Valor: 1,0) 6 - Implemente uma função para excluir um contato, consultado\n",
        "pelo nome, no dicionário."
      ],
      "metadata": {
        "id": "-n44IHcol9NW"
      }
    },
    {
      "cell_type": "code",
      "source": [
        "dicionarioContatos = excluir_dicionario_via_nome(dicionarioContatos)"
      ],
      "metadata": {
        "id": "A9WLWIn-l-aO"
      },
      "execution_count": null,
      "outputs": []
    },
    {
      "cell_type": "markdown",
      "source": [
        "Valor: 1,0) 7 - Implemente uma função para exibir a lista de contatos, da\n",
        "seguinte forma:\n"
      ],
      "metadata": {
        "id": "i7gY0aODmNCH"
      }
    },
    {
      "cell_type": "code",
      "source": [
        "print(\"Dicionario \\n\")\n",
        "imprimir_todos_contatos_dicionario(dicionarioContatos)\n",
        "print(\"\\n\\nLista \\n\")\n",
        "imprimir_listaContatos(listaContatos)"
      ],
      "metadata": {
        "colab": {
          "base_uri": "https://localhost:8080/"
        },
        "id": "eNpMJ224mNbf",
        "outputId": "e45b2888-7360-40ca-dc6f-ceeb7290aea0"
      },
      "execution_count": null,
      "outputs": [
        {
          "output_type": "stream",
          "name": "stdout",
          "text": [
            "Dicionario \n",
            "\n",
            "Nome \t Email \t Telefone \t Facebook \t Twitter \t Instagram\n",
            "\t monica monica@gmail.com9299-10251 monicaFacebook monicaInstagram \t reidner novoemailnovotelefone reidnerFacebook novoInstagram \n",
            "\n",
            "Lista \n",
            "\n",
            "Nome      Email        Telefone      Twitter     Facebook     Instagram \n",
            "monica monica@gmail.com 9299-10251 monicaTwitter monicaFacebook monicaInstagram\n",
            "reidner reidner@gmail.com 99218-5101 reidnerTwitter reidnerFacebook reidnerInstagram\n"
          ]
        }
      ]
    },
    {
      "cell_type": "markdown",
      "source": [
        "(Valor: 1,5) 8 - Implemente uma função, que deverá ser chamada quando o\n",
        "usuário optar por sair do programa (deverá ser perguntado se ele deseja\n",
        "salvar os dados no arquivo), para persistir os dados em um arquivo csv, da\n",
        "seguinte forma:"
      ],
      "metadata": {
        "id": "00ePhVnHEESv"
      }
    },
    {
      "cell_type": "code",
      "source": [
        "def escreveDadosArquivo(dicionarioContatos):\n",
        "  arquivoCSV = open(\"arquivoCSV.txt\",'w')\n",
        "  arquivoCSV.write(\"Nome,E-mail,Twitter,Facebook,Instagram\")\n",
        "  for valor in dicionarioContatos.keys():\n",
        "    arquivoCSV.write(\"\\n\")\n",
        "    arquivoCSV.writelines(valor)\n",
        "    arquivoCSV.writelines(\",\") ## \"\\t\" fica melhor\n",
        "    arquivoCSV.writelines(dicionarioContatos[valor][0])\n",
        "    arquivoCSV.writelines(\",\")\n",
        "    arquivoCSV.writelines(dicionarioContatos[valor][1])\n",
        "    arquivoCSV.writelines(\",\")\n",
        "    arquivoCSV.writelines(dicionarioContatos[valor][2])\n",
        "    arquivoCSV.writelines(\",\")\n",
        "    arquivoCSV.writelines(dicionarioContatos[valor][3])\n",
        "    arquivoCSV.writelines(\",\")\n",
        "    arquivoCSV.writelines(dicionarioContatos[valor][4])\n",
        "\n",
        "\n",
        "  arquivoCSV.close()\n",
        "\n",
        "\n",
        "  #arquivoCSV.writelines(dicionarioContatos)\n",
        "\n",
        "def salvarDadosArquivo(dicionarioContatos):\n",
        "  sim_ou_nao =input(\"Gostaria de salva os dados ?? (sim ou nao)\")\n",
        "  if sim_ou_nao == 'sim':\n",
        "    escreveDadosArquivo(dicionarioContatos)\n",
        "  else :\n",
        "    print(\"Nenhum dado foi salvo\")\n",
        "\n",
        "\n",
        "\n",
        "\n",
        "salvarDadosArquivo(dicionarioContatos)\n",
        "\n",
        "f = open(\"arquivoCSV.txt\", \"r\")\n",
        "#print(f.readline())\n",
        "print()\n",
        "print(f.read())"
      ],
      "metadata": {
        "colab": {
          "base_uri": "https://localhost:8080/"
        },
        "id": "pFzYnJ_7Nkvp",
        "outputId": "f9c4b47a-ce44-4540-c75e-5e6a69492167"
      },
      "execution_count": null,
      "outputs": [
        {
          "output_type": "stream",
          "name": "stdout",
          "text": [
            "Gostaria de salva os dados ?? (sim ou nao)sim\n",
            "\n",
            "Nome,E-mail,Twitter,Facebook,Instagram\n",
            "monica,monica@gmail.com,9299-10251,monicaFacebook,monicaTwitter,monicaInstagram\n",
            "reidner,novoemail,novotelefone,reidnerFacebook,novoTwitter,novoInstagram\n"
          ]
        }
      ]
    },
    {
      "cell_type": "markdown",
      "source": [
        "(Valor: 1,5) 9 - Quando rodar o programa, este deverá buscar a agenda de\n",
        "contados no arquivo, colocar no dicionário, e exibir os dados na tela, se não\n",
        "existir o arquivo, exibir a mensagem “Nenhum contato cadastrado”. Se o\n",
        "usuário optar por gravar novos dados, item 8, estes deverão ser adicionados\n",
        "no arquivo, sem apagar os existentes. Os dados não poderão ser duplicados\n",
        "também"
      ],
      "metadata": {
        "id": "JxkDBq8q1_Ky"
      }
    },
    {
      "cell_type": "code",
      "source": [
        "def escreve_novos_dados(dicionarioContatos, nomeArquivo):\n",
        "    # Abre o arquivo em modo de leitura para verificar os contatos existentes\n",
        "    with open(nomeArquivo, 'r') as arquivo_csv_leitura:\n",
        "        linhas = arquivo_csv_leitura.readlines()\n",
        "\n",
        "    # Cria um conjunto (set) para rastrear os nomes existentes\n",
        "    nomes_existentes = set()\n",
        "\n",
        "    # Preenche o conjunto com os nomes existentes\n",
        "    for linha in linhas[1:]:\n",
        "        nome = linha.split(\",\")[0]\n",
        "        nomes_existentes.add(nome)\n",
        "\n",
        "    # Solicita os novos dados ao usuário\n",
        "    novo_nome = input(\"Digite o nome do contato: \")\n",
        "\n",
        "    # Verifica se o nome já existe\n",
        "    if novo_nome in nomes_existentes:\n",
        "        print(\"Este contato já existe na agenda.\")\n",
        "        return  # Sai da função sem adicionar dados duplicados\n",
        "\n",
        "    novo_email = input(\"Digite o email do contato: \")\n",
        "    novo_telefone = input(\"Digite o telefone do contato: \")\n",
        "    novo_facebook = input(\"Digite o Facebook do contato: \")\n",
        "    novo_twitter = input(\"Digite o Twitter do contato: \")\n",
        "    novo_instagram = input(\"Digite o Instagram do contato: \")\n",
        "\n",
        "    # Adiciona os novos dados ao dicionário\n",
        "    dicionarioContatos[novo_nome] = (novo_email, novo_telefone, novo_facebook, novo_twitter, novo_instagram)\n",
        "\n",
        "    # Abre o arquivo em modo de escrita para adicionar os novos dados\n",
        "    with open(nomeArquivo, 'a') as arquivo_csv_escrita:\n",
        "        # Escreve os novos dados no arquivo\n",
        "        novo_contato = f\"{novo_nome},{novo_email},{novo_telefone},{novo_facebook},{novo_twitter},{novo_instagram}\\n\"\n",
        "        arquivo_csv_escrita.write(novo_contato)\n",
        "\n",
        "\n"
      ],
      "metadata": {
        "id": "6oiK5e_fUkZ1"
      },
      "execution_count": null,
      "outputs": []
    },
    {
      "cell_type": "code",
      "source": [
        "def checaArquivoVazio(arquivo):\n",
        "  return arquivo.read() == ''\n",
        "\n",
        "\n",
        "def buscarAgenda(nomeArquivo):\n",
        "  arquivo =  open(nomeArquivo,'r')\n",
        "  arquivo_vazio =checaArquivoVazio(arquivo)\n",
        "  print(arquivo_vazio)\n",
        "  if arquivo_vazio:\n",
        "    print(\"Nenhum contato cadastrado \")\n",
        "\n",
        "    grava_novo_dados = input(\"Gostaria de grava novos dados ? (sim ou nao )\")\n",
        "\n",
        "    if grava_novo_dados =='sim':\n",
        "      print(\"Fazer a função\")\n",
        "\n",
        "\n",
        "      escreve_novos_dados(dicionarioContatos2, nomeArquivo)\n",
        "\n",
        "    else:\n",
        "      print(\"\")\n",
        "\n",
        "  else:\n",
        "\n",
        "    dicionarioArquivo ={}\n",
        "    arquivo.seek(0)\n",
        "    linhas = arquivo.readlines()[1:]\n",
        "    for linha in linhas:\n",
        "      valores=[]\n",
        "      pedacos=linha.split(\",\")\n",
        "\n",
        "      for pedaco in pedacos[1:]:\n",
        "        valores.append(pedaco)\n",
        "\n",
        "      valores= tuple(valores)\n",
        "      dicionarioArquivo[pedacos[0]]=valores\n",
        "\n",
        "    print(dicionarioArquivo)\n",
        "\n",
        "\n",
        "\n",
        "\n"
      ],
      "metadata": {
        "id": "TivnGRNY2AQJ"
      },
      "execution_count": null,
      "outputs": []
    },
    {
      "cell_type": "markdown",
      "source": [
        "buscar quando o arquivo não esta vazio"
      ],
      "metadata": {
        "id": "P6z9RXolNZK4"
      }
    },
    {
      "cell_type": "code",
      "source": [
        "buscarAgenda(\"arquivoCSV.txt\")"
      ],
      "metadata": {
        "colab": {
          "base_uri": "https://localhost:8080/"
        },
        "id": "lrW65LE9pA75",
        "outputId": "aa338899-9e5d-4a19-ee03-96162eaab410"
      },
      "execution_count": null,
      "outputs": [
        {
          "output_type": "stream",
          "name": "stdout",
          "text": [
            "False\n",
            "{'monica': ('monica@gmail.com', '9299-10251', 'monicaFacebook', 'monicaTwitter', 'monicaInstagram\\n'), 'reidner': ('novoemail', 'novotelefone', 'reidnerFacebook', 'novoTwitter', 'novoInstagram')}\n"
          ]
        }
      ]
    },
    {
      "cell_type": "markdown",
      "source": [
        "buscar quando o arquivo esta vazio"
      ],
      "metadata": {
        "id": "3syvSrRgNjeA"
      }
    },
    {
      "cell_type": "code",
      "source": [
        "buscarAgenda(\"arquivoVazio.txt\")"
      ],
      "metadata": {
        "colab": {
          "base_uri": "https://localhost:8080/"
        },
        "id": "klJQBIqsNfPI",
        "outputId": "fd0d7d33-f930-48a9-e7eb-d0952abac66a"
      },
      "execution_count": null,
      "outputs": [
        {
          "name": "stdout",
          "output_type": "stream",
          "text": [
            "True\n",
            "Nenhum contato cadastrado \n",
            "Gostaria de grava novos dados ? (sim ou nao )sim\n",
            "Fazer a função\n",
            "Digite o nome do contato: ope\n",
            "Digite o email do contato: ope@gmail.com\n",
            "Digite o telefone do contato: 6190920-2023\n",
            "Digite o Facebook do contato: opeFacebook\n",
            "Digite o Twitter do contato: opeTwitter\n",
            "Digite o Instagram do contato: opeInstagram\n"
          ]
        }
      ]
    }
  ]
}